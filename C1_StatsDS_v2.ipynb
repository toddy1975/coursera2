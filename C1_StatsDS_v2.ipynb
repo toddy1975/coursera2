{
 "cells": [
  {
   "cell_type": "markdown",
   "id": "f6d89e9b-63c0-4bf3-a589-fd280e07e49e",
   "metadata": {},
   "source": [
    "## Statistics for Data Science"
   ]
  },
  {
   "cell_type": "code",
   "execution_count": 1,
   "id": "1525dba2-0323-4031-a199-f831d5d8784c",
   "metadata": {},
   "outputs": [],
   "source": [
    "# Import libraries\n",
    "import pandas as pd\n",
    "import matplotlib.pyplot as plt\n",
    "import numpy as np\n",
    "import seaborn as sns\n",
    "import scipy.stats as stats\n",
    "\n",
    "\n"
   ]
  },
  {
   "cell_type": "markdown",
   "id": "812cdf54-ca5e-4740-981c-8c73ff6da0fe",
   "metadata": {},
   "source": [
    "## Task 3: Load in the Dataset in your Jupyter Notebook"
   ]
  },
  {
   "cell_type": "code",
   "execution_count": 2,
   "id": "da1f87e2-4e4a-4b07-b4ad-375b7906f5de",
   "metadata": {},
   "outputs": [],
   "source": [
    "\n",
    "boston_url = 'https://cf-courses-data.s3.us.cloud-object-storage.appdomain.cloud/IBMDeveloperSkillsNetwork-ST0151EN-SkillsNetwork/labs/boston_housing.csv'\n",
    "boston_df=pd.read_csv(boston_url)"
   ]
  },
  {
   "cell_type": "code",
   "execution_count": 3,
   "id": "3d6a4818-d851-476c-b33b-ab2843ca91a1",
   "metadata": {},
   "outputs": [
    {
     "data": {
      "text/html": [
       "<div>\n",
       "<style scoped>\n",
       "    .dataframe tbody tr th:only-of-type {\n",
       "        vertical-align: middle;\n",
       "    }\n",
       "\n",
       "    .dataframe tbody tr th {\n",
       "        vertical-align: top;\n",
       "    }\n",
       "\n",
       "    .dataframe thead th {\n",
       "        text-align: right;\n",
       "    }\n",
       "</style>\n",
       "<table border=\"1\" class=\"dataframe\">\n",
       "  <thead>\n",
       "    <tr style=\"text-align: right;\">\n",
       "      <th></th>\n",
       "      <th>Unnamed: 0</th>\n",
       "      <th>CRIM</th>\n",
       "      <th>ZN</th>\n",
       "      <th>INDUS</th>\n",
       "      <th>CHAS</th>\n",
       "      <th>NOX</th>\n",
       "      <th>RM</th>\n",
       "      <th>AGE</th>\n",
       "      <th>DIS</th>\n",
       "      <th>RAD</th>\n",
       "      <th>TAX</th>\n",
       "      <th>PTRATIO</th>\n",
       "      <th>LSTAT</th>\n",
       "      <th>MEDV</th>\n",
       "    </tr>\n",
       "  </thead>\n",
       "  <tbody>\n",
       "    <tr>\n",
       "      <th>count</th>\n",
       "      <td>506.000000</td>\n",
       "      <td>506.000000</td>\n",
       "      <td>506.000000</td>\n",
       "      <td>506.000000</td>\n",
       "      <td>506.000000</td>\n",
       "      <td>506.000000</td>\n",
       "      <td>506.000000</td>\n",
       "      <td>506.000000</td>\n",
       "      <td>506.000000</td>\n",
       "      <td>506.000000</td>\n",
       "      <td>506.000000</td>\n",
       "      <td>506.000000</td>\n",
       "      <td>506.000000</td>\n",
       "      <td>506.000000</td>\n",
       "    </tr>\n",
       "    <tr>\n",
       "      <th>mean</th>\n",
       "      <td>252.500000</td>\n",
       "      <td>3.613524</td>\n",
       "      <td>11.363636</td>\n",
       "      <td>11.136779</td>\n",
       "      <td>0.069170</td>\n",
       "      <td>0.554695</td>\n",
       "      <td>6.284634</td>\n",
       "      <td>68.574901</td>\n",
       "      <td>3.795043</td>\n",
       "      <td>9.549407</td>\n",
       "      <td>408.237154</td>\n",
       "      <td>18.455534</td>\n",
       "      <td>12.653063</td>\n",
       "      <td>22.532806</td>\n",
       "    </tr>\n",
       "    <tr>\n",
       "      <th>std</th>\n",
       "      <td>146.213884</td>\n",
       "      <td>8.601545</td>\n",
       "      <td>23.322453</td>\n",
       "      <td>6.860353</td>\n",
       "      <td>0.253994</td>\n",
       "      <td>0.115878</td>\n",
       "      <td>0.702617</td>\n",
       "      <td>28.148861</td>\n",
       "      <td>2.105710</td>\n",
       "      <td>8.707259</td>\n",
       "      <td>168.537116</td>\n",
       "      <td>2.164946</td>\n",
       "      <td>7.141062</td>\n",
       "      <td>9.197104</td>\n",
       "    </tr>\n",
       "    <tr>\n",
       "      <th>min</th>\n",
       "      <td>0.000000</td>\n",
       "      <td>0.006320</td>\n",
       "      <td>0.000000</td>\n",
       "      <td>0.460000</td>\n",
       "      <td>0.000000</td>\n",
       "      <td>0.385000</td>\n",
       "      <td>3.561000</td>\n",
       "      <td>2.900000</td>\n",
       "      <td>1.129600</td>\n",
       "      <td>1.000000</td>\n",
       "      <td>187.000000</td>\n",
       "      <td>12.600000</td>\n",
       "      <td>1.730000</td>\n",
       "      <td>5.000000</td>\n",
       "    </tr>\n",
       "    <tr>\n",
       "      <th>25%</th>\n",
       "      <td>126.250000</td>\n",
       "      <td>0.082045</td>\n",
       "      <td>0.000000</td>\n",
       "      <td>5.190000</td>\n",
       "      <td>0.000000</td>\n",
       "      <td>0.449000</td>\n",
       "      <td>5.885500</td>\n",
       "      <td>45.025000</td>\n",
       "      <td>2.100175</td>\n",
       "      <td>4.000000</td>\n",
       "      <td>279.000000</td>\n",
       "      <td>17.400000</td>\n",
       "      <td>6.950000</td>\n",
       "      <td>17.025000</td>\n",
       "    </tr>\n",
       "    <tr>\n",
       "      <th>50%</th>\n",
       "      <td>252.500000</td>\n",
       "      <td>0.256510</td>\n",
       "      <td>0.000000</td>\n",
       "      <td>9.690000</td>\n",
       "      <td>0.000000</td>\n",
       "      <td>0.538000</td>\n",
       "      <td>6.208500</td>\n",
       "      <td>77.500000</td>\n",
       "      <td>3.207450</td>\n",
       "      <td>5.000000</td>\n",
       "      <td>330.000000</td>\n",
       "      <td>19.050000</td>\n",
       "      <td>11.360000</td>\n",
       "      <td>21.200000</td>\n",
       "    </tr>\n",
       "    <tr>\n",
       "      <th>75%</th>\n",
       "      <td>378.750000</td>\n",
       "      <td>3.677083</td>\n",
       "      <td>12.500000</td>\n",
       "      <td>18.100000</td>\n",
       "      <td>0.000000</td>\n",
       "      <td>0.624000</td>\n",
       "      <td>6.623500</td>\n",
       "      <td>94.075000</td>\n",
       "      <td>5.188425</td>\n",
       "      <td>24.000000</td>\n",
       "      <td>666.000000</td>\n",
       "      <td>20.200000</td>\n",
       "      <td>16.955000</td>\n",
       "      <td>25.000000</td>\n",
       "    </tr>\n",
       "    <tr>\n",
       "      <th>max</th>\n",
       "      <td>505.000000</td>\n",
       "      <td>88.976200</td>\n",
       "      <td>100.000000</td>\n",
       "      <td>27.740000</td>\n",
       "      <td>1.000000</td>\n",
       "      <td>0.871000</td>\n",
       "      <td>8.780000</td>\n",
       "      <td>100.000000</td>\n",
       "      <td>12.126500</td>\n",
       "      <td>24.000000</td>\n",
       "      <td>711.000000</td>\n",
       "      <td>22.000000</td>\n",
       "      <td>37.970000</td>\n",
       "      <td>50.000000</td>\n",
       "    </tr>\n",
       "  </tbody>\n",
       "</table>\n",
       "</div>"
      ],
      "text/plain": [
       "       Unnamed: 0        CRIM          ZN       INDUS        CHAS         NOX  \\\n",
       "count  506.000000  506.000000  506.000000  506.000000  506.000000  506.000000   \n",
       "mean   252.500000    3.613524   11.363636   11.136779    0.069170    0.554695   \n",
       "std    146.213884    8.601545   23.322453    6.860353    0.253994    0.115878   \n",
       "min      0.000000    0.006320    0.000000    0.460000    0.000000    0.385000   \n",
       "25%    126.250000    0.082045    0.000000    5.190000    0.000000    0.449000   \n",
       "50%    252.500000    0.256510    0.000000    9.690000    0.000000    0.538000   \n",
       "75%    378.750000    3.677083   12.500000   18.100000    0.000000    0.624000   \n",
       "max    505.000000   88.976200  100.000000   27.740000    1.000000    0.871000   \n",
       "\n",
       "               RM         AGE         DIS         RAD         TAX     PTRATIO  \\\n",
       "count  506.000000  506.000000  506.000000  506.000000  506.000000  506.000000   \n",
       "mean     6.284634   68.574901    3.795043    9.549407  408.237154   18.455534   \n",
       "std      0.702617   28.148861    2.105710    8.707259  168.537116    2.164946   \n",
       "min      3.561000    2.900000    1.129600    1.000000  187.000000   12.600000   \n",
       "25%      5.885500   45.025000    2.100175    4.000000  279.000000   17.400000   \n",
       "50%      6.208500   77.500000    3.207450    5.000000  330.000000   19.050000   \n",
       "75%      6.623500   94.075000    5.188425   24.000000  666.000000   20.200000   \n",
       "max      8.780000  100.000000   12.126500   24.000000  711.000000   22.000000   \n",
       "\n",
       "            LSTAT        MEDV  \n",
       "count  506.000000  506.000000  \n",
       "mean    12.653063   22.532806  \n",
       "std      7.141062    9.197104  \n",
       "min      1.730000    5.000000  \n",
       "25%      6.950000   17.025000  \n",
       "50%     11.360000   21.200000  \n",
       "75%     16.955000   25.000000  \n",
       "max     37.970000   50.000000  "
      ]
     },
     "execution_count": 3,
     "metadata": {},
     "output_type": "execute_result"
    }
   ],
   "source": [
    "boston_df.describe()"
   ]
  },
  {
   "cell_type": "code",
   "execution_count": null,
   "id": "8abffb4d-f583-4133-94d4-6032a6318f47",
   "metadata": {},
   "outputs": [],
   "source": []
  },
  {
   "cell_type": "markdown",
   "id": "c088d09b-c468-4cbf-bf03-77f988933687",
   "metadata": {},
   "source": [
    "## Task 4: Generate Descriptive Statistics and Visualizations"
   ]
  },
  {
   "cell_type": "markdown",
   "id": "2415f40e-f9a4-46ff-bcc6-c14b08ddb542",
   "metadata": {},
   "source": [
    "a) For the \"Median value of owner-occupied homes\" provide a boxplot"
   ]
  },
  {
   "cell_type": "code",
   "execution_count": 4,
   "id": "812bd1f2-ffd9-45e5-b36d-7a528a1abbc6",
   "metadata": {},
   "outputs": [
    {
     "data": {
      "image/png": "[encoded data removed]",
      "text/plain": [
       "<Figure size 720x504 with 1 Axes>"
      ]
     },
     "metadata": {
      "needs_background": "light"
     },
     "output_type": "display_data"
    }
   ],
   "source": [
    "\n",
    "fig = plt.figure(figsize =(10, 7))\n",
    "\n",
    "# data\n",
    "data=boston_df[\"MEDV\"]\n",
    "\n",
    "# Creating plot\n",
    "\n",
    "ax = fig.add_subplot(111)\n",
    "ax.boxplot(data)\n",
    "\n",
    "# Create Title\n",
    "plt.title(\"Median value of owner-occupied homes Boxplot\")\n",
    "ax.set_ylabel(\"Median Value\")\n",
    "\n",
    "# show plot\n",
    "plt.show()\n"
   ]
  },
  {
   "cell_type": "markdown",
   "id": "c1a4a552-cc0e-4ef5-a2af-bd47dfebeca0",
   "metadata": {},
   "source": [
    "### Findings: \n",
    "The Median values are largely between $17k & $25k although there are a number of outliers upto $50k"
   ]
  },
  {
   "cell_type": "markdown",
   "id": "3bd58ce8-1843-4f0c-88f4-dd21c812970d",
   "metadata": {},
   "source": [
    "b) Provide a bar plot for the Charles river variable"
   ]
  },
  {
   "cell_type": "code",
   "execution_count": 5,
   "id": "1809c988-d29d-42cd-998d-8a32409b0bda",
   "metadata": {},
   "outputs": [
    {
     "name": "stderr",
     "output_type": "stream",
     "text": [
      "C:\\Users\\ToddyPC2020\\anaconda3\\lib\\site-packages\\seaborn\\_decorators.py:36: FutureWarning: Pass the following variable as a keyword arg: x. From version 0.12, the only valid positional argument will be `data`, and passing other arguments without an explicit keyword will result in an error or misinterpretation.\n",
      "  warnings.warn(\n"
     ]
    },
    {
     "data": {
      "image/png": "[encoded data removed]",
      "text/plain": [
       "<Figure size 720x504 with 1 Axes>"
      ]
     },
     "metadata": {
      "needs_background": "light"
     },
     "output_type": "display_data"
    }
   ],
   "source": [
    "fig = plt.figure(figsize =(10, 7))\n",
    "\n",
    "\n",
    "sns.set(style=\"darkgrid\")\n",
    "\n",
    "\n",
    "# data\n",
    "datay=boston_df[\"MEDV\"]\n",
    "datax=boston_df[\"CHAS\"]\n",
    "\n",
    "# Creating plot\n",
    "\n",
    "ax = fig.add_subplot(111)\n",
    "ax = sns.countplot(datax)\n",
    "\n",
    "# Create Title\n",
    "plt.title(\"Bar plot for the Charles river variable\")\n",
    "ax.set_ylabel(\"Charles river variable Count\")\n",
    "ax.set_xlabel(\"Near Charles River, 0=No, 1=Yes\")\n",
    "\n",
    "\n",
    "# show plot\n",
    "plt.show()"
   ]
  },
  {
   "cell_type": "markdown",
   "id": "5ce05d60-a615-45eb-bd63-080ac9fb0b88",
   "metadata": {},
   "source": [
    "### Findings: \n",
    "The vast majority of houses (over 90%) are not near the Charles River"
   ]
  },
  {
   "cell_type": "markdown",
   "id": "2b79adc0-8bcd-4779-9b52-7f0516fd30c9",
   "metadata": {},
   "source": [
    "c) Provide a boxplot for the MEDV variable vs the AGE variable. (Discretize the age variable into three groups of 35 years and younger, between 35 and 70 years and 70 years and older)"
   ]
  },
  {
   "cell_type": "code",
   "execution_count": 6,
   "id": "8fd9a4e4-dc08-4e48-be9d-801c5cfe7947",
   "metadata": {},
   "outputs": [],
   "source": [
    "boston_df[\"AgeGroup\"]=\"\"\n",
    "\n",
    "PE_Conditions = [\n",
    "    (boston_df[\"AGE\"] <= 35),\n",
    "    (boston_df[\"AGE\"] > 35) & (boston_df[\"AGE\"] < 70),\n",
    "    (boston_df[\"AGE\"] >= 70)\n",
    "]\n",
    "PE_Categories = ['1) 35 years and younger', '2) between 35 and 70 years', '3) 70 years and older']\n",
    "boston_df['AgeGroup'] = np.select(PE_Conditions, PE_Categories)"
   ]
  },
  {
   "cell_type": "code",
   "execution_count": 7,
   "id": "42317d2e-f39e-4b32-bfbb-b5126586082e",
   "metadata": {},
   "outputs": [
    {
     "data": {
      "image/png": "[encoded data removed]",
      "text/plain": [
       "<Figure size 720x504 with 1 Axes>"
      ]
     },
     "metadata": {},
     "output_type": "display_data"
    }
   ],
   "source": [
    "\n",
    "fig = plt.figure(figsize =(10, 7))\n",
    "\n",
    "# Creating plot\n",
    "ax= sns.boxplot(x=\"MEDV\",y=\"AgeGroup\",data=boston_df)\n",
    "\n",
    "# Create Title\n",
    "plt.title(\"MEDV variable vs the AGE variable\")\n",
    "ax.set_ylabel(\"Age Group\")\n",
    "\n",
    "# show plot\n",
    "plt.show()"
   ]
  },
  {
   "cell_type": "code",
   "execution_count": 8,
   "id": "4285c2cc-60f5-47bf-b5dd-1b97a8046d41",
   "metadata": {},
   "outputs": [
    {
     "ename": "SyntaxError",
     "evalue": "invalid syntax (Temp/ipykernel_15308/1112318051.py, line 2)",
     "output_type": "error",
     "traceback": [
      "\u001b[1;36m  File \u001b[1;32m\"C:\\Users\\TODDYP~1\\AppData\\Local\\Temp/ipykernel_15308/1112318051.py\"\u001b[1;36m, line \u001b[1;32m2\u001b[0m\n\u001b[1;33m    The newer houses have the highest Median House Price Value and the oldest have the lowest median house price value, although the oldest also have a lot of more valuable properties\u001b[0m\n\u001b[1;37m        ^\u001b[0m\n\u001b[1;31mSyntaxError\u001b[0m\u001b[1;31m:\u001b[0m invalid syntax\n"
     ]
    }
   ],
   "source": [
    "### Findings: \n",
    "The newer houses have the highest Median House Price Value and the oldest have the lowest median house price value, although the oldest also have a lot of more valuable properties"
   ]
  },
  {
   "cell_type": "markdown",
   "id": "2ad6d503-72f8-4c1b-97eb-cc1a9d66bfa2",
   "metadata": {},
   "source": [
    "d) Provide a scatter plot to show the relationship between Nitric oxide concentrations and the proportion of non-retail business acres per town. What can you say about the relationship?"
   ]
  },
  {
   "cell_type": "code",
   "execution_count": null,
   "id": "43598f50-9fd0-4e44-acfe-8d8c9af69c92",
   "metadata": {},
   "outputs": [],
   "source": [
    "fig = plt.figure(figsize =(10, 7))\n",
    "ax = fig.add_subplot(111)\n",
    "\n",
    "\n",
    "ax.scatter(y = \"NOX\", x = \"INDUS\", data = boston_df)\n",
    "plt.title(\"Relationship between Nitric oxide concentrations and the proportion of non-retail business acres per town\")\n",
    "ax.set_ylabel(\"NOX\")\n",
    "ax.set_xlabel(\"INDUS\")\n",
    "plt.show()"
   ]
  },
  {
   "cell_type": "markdown",
   "id": "67435b99-d59a-4916-9bf3-2f32bbd1b1ad",
   "metadata": {},
   "source": [
    "Comment on relationship:\n",
    "The Level of Nitric Oxide Concentration increses as non-retail business acres in a town increases"
   ]
  },
  {
   "cell_type": "markdown",
   "id": "33e783a4-8a00-4206-9df9-c4bd45c2f833",
   "metadata": {},
   "source": [
    "e) Create a histogram for the pupil to teacher ratio variable"
   ]
  },
  {
   "cell_type": "code",
   "execution_count": null,
   "id": "db476eca-4372-45cd-9daa-5c232762824c",
   "metadata": {},
   "outputs": [],
   "source": [
    "fig = plt.figure(figsize =(10, 7))\n",
    "ax = sns.countplot(x = \"PTRATIO\", data = boston_df)\n",
    "plt.title(\"histogram for the pupil to teacher ratio variable\")\n",
    "plt.xticks(rotation=90)\n",
    "plt.show()"
   ]
  },
  {
   "cell_type": "markdown",
   "id": "35faf8ad-3a27-4958-bc95-e22487eebd90",
   "metadata": {},
   "source": [
    "### Findings: \n",
    "The Pupil-Teacher Ratio is between 12 and 22 with the vast majority around 20"
   ]
  },
  {
   "cell_type": "markdown",
   "id": "9a3bf138-aee6-41df-9e15-4d782833ba5e",
   "metadata": {},
   "source": [
    "## Task 5 For each of the following questions;\n",
    "\n",
    "\n",
    "Be sure to:\n",
    "\n",
    "State your hypothesis.\n",
    "\n",
    "Use α = 0.05\n",
    "\n",
    "Perform the test Statistics.\n",
    "\n",
    "State the conclusion from the test."
   ]
  },
  {
   "cell_type": "markdown",
   "id": "4adeb895-6de9-4649-983d-b43e3a86d76b",
   "metadata": {},
   "source": [
    "a) Is there a significant difference in median value of houses bounded by the Charles river or not? (T-test for independent samples)"
   ]
  },
  {
   "cell_type": "markdown",
   "id": "1c9448ac-c8d0-4885-9595-9bb5ab6cbe30",
   "metadata": {},
   "source": [
    "### Null Hypothesis:\n",
    "There is no significant difference in median value of houses bounded by the Charles River\n",
    "### Alternate Hypothesis:\n",
    "There is a significant difference in median value of houses bounded by the Charles River"
   ]
  },
  {
   "cell_type": "code",
   "execution_count": null,
   "id": "cb67ba61-ce2c-490e-a3d5-875cc7fe4059",
   "metadata": {},
   "outputs": [],
   "source": [
    "boston_df[\"CHAS_TTest\"]=\"\"\n",
    "\n",
    "PE_Conditions = [\n",
    "    (boston_df[\"CHAS\"] == 0),\n",
    "    (boston_df[\"CHAS\"] == 1)\n",
    "]\n",
    "PE_Categories = ['No','Yes']\n",
    "boston_df['CHAS_TTest'] = np.select(PE_Conditions, PE_Categories)"
   ]
  },
  {
   "cell_type": "code",
   "execution_count": null,
   "id": "90a88dde-8b63-4523-b2ac-57d4b4a7c3d8",
   "metadata": {},
   "outputs": [],
   "source": [
    "boston_df"
   ]
  },
  {
   "cell_type": "code",
   "execution_count": null,
   "id": "8934ceae-b2a1-47e4-b5a8-59f2a658a462",
   "metadata": {},
   "outputs": [],
   "source": [
    "stats.ttest_ind(boston_df[boston_df['CHAS_TTest'] == \"No\"]['MEDV'], \n",
    "                      boston_df[boston_df['CHAS_TTest'] == \"Yes\"]['MEDV'], equal_var = True)"
   ]
  },
  {
   "cell_type": "markdown",
   "id": "1aede605-4f80-4e8a-a20c-8d0a867a611a",
   "metadata": {},
   "source": [
    "### Conclusion\n",
    "pvalue is less than 0.05 so we reject the Null Hypothesis which means there is significant difference in Median value given distance from Charles River"
   ]
  },
  {
   "cell_type": "markdown",
   "id": "632897e9-3023-4f1f-acce-3bebaed01d6a",
   "metadata": {},
   "source": [
    "b) Is there a difference in Median values of houses (MEDV) for each proportion of owner occupied units built prior to 1940 (AGE)? (ANOVA)\n"
   ]
  },
  {
   "cell_type": "markdown",
   "id": "cceb65ea-381c-419d-8229-cdfdd2373c65",
   "metadata": {},
   "source": [
    "### Null Hypothesis:\n",
    "There is no significant difference in Median values of houses (MEDV) for each proportion of owner occupied units built prior to 1940 (AGE)\n",
    "### Alternate Hypothesis:\n",
    "There is significant difference in Median values of houses (MEDV) for each proportion of owner occupied units built prior to 1940 (AGE)\n"
   ]
  },
  {
   "cell_type": "code",
   "execution_count": null,
   "id": "1ac48a8b-925f-4237-94dd-04644f45d270",
   "metadata": {},
   "outputs": [],
   "source": [
    "stats.f_oneway(boston_df[\"MEDV\"],boston_df[\"AGE\"])"
   ]
  },
  {
   "cell_type": "markdown",
   "id": "fa1945ed-41cd-48df-8359-da889b2e2a3c",
   "metadata": {},
   "source": [
    "### Conclusion\n",
    "pvalue is less than 0.05 so we reject the Null Hypothesis which means there is significant difference in Median values of houses (MEDV) for each proportion of owner occupied units built prior to 1940 (AGE)"
   ]
  },
  {
   "cell_type": "markdown",
   "id": "c40cad83-ed25-47b6-9d7b-acf601bad50a",
   "metadata": {},
   "source": [
    "c) Can we conclude that there is no relationship between Nitric oxide concentrations and proportion of non-retail business acres per town? (Pearson Correlation)\n"
   ]
  },
  {
   "cell_type": "markdown",
   "id": "947e2c0f-f4fc-417e-b07f-ea204228d280",
   "metadata": {},
   "source": [
    "### Null Hypothesis:\n",
    "There is no correlation between Nitric oxide concentrations and proportion of non-retail business acres per town\n",
    "### Alternate Hypothesis:\n",
    "There is a correlation between Nitric oxide concentrations and proportion of non-retail business acres per town"
   ]
  },
  {
   "cell_type": "code",
   "execution_count": null,
   "id": "b17b97d0-eb1c-4792-a80c-3eb075cf0bdf",
   "metadata": {},
   "outputs": [],
   "source": [
    "stats.pearsonr(boston_df['NOX'], boston_df['INDUS'])"
   ]
  },
  {
   "cell_type": "markdown",
   "id": "19771b26-1909-4e47-b695-9a95aa755b7c",
   "metadata": {},
   "source": [
    "### Conclusion\n",
    "pvalue is less than 0.05 and Pearson Coefficient of 0.76 so there is a strong positive correlation between Nitric Oxide concentration and size of non-retail business acres "
   ]
  },
  {
   "cell_type": "markdown",
   "id": "d1f1ba81-16fa-4efc-8506-3c4f2ca9c4e7",
   "metadata": {},
   "source": [
    "d) What is the impact of an additional weighted distance  to the five Boston employment centres on the median value of owner occupied homes? (Regression analysis)\n"
   ]
  },
  {
   "cell_type": "code",
   "execution_count": null,
   "id": "f2b3a927-f251-45b8-896f-b5f7551767e0",
   "metadata": {},
   "outputs": [],
   "source": [
    "x = boston_df['DIS']\n",
    "y = boston_df['MEDV']"
   ]
  },
  {
   "cell_type": "code",
   "execution_count": null,
   "id": "19613d25-862d-481e-819e-ec4833df4a2e",
   "metadata": {},
   "outputs": [],
   "source": [
    "plt.scatter(x,y)\n",
    "plt.show()"
   ]
  },
  {
   "cell_type": "markdown",
   "id": "bf1a28df-35c7-4d9f-b07b-d7fe5e14e2c8",
   "metadata": {},
   "source": [
    "### Conclusion\n",
    "There doesnt seem to be a strong impact between the 5 Boston Emplyment centres on the Median value of owner occupied homes "
   ]
  },
  {
   "cell_type": "code",
   "execution_count": null,
   "id": "5afce638-782f-40f7-b457-3b417518b675",
   "metadata": {},
   "outputs": [],
   "source": []
  }
 ],
 "metadata": {
  "kernelspec": {
   "display_name": "Python 3 (ipykernel)",
   "language": "python",
   "name": "python3"
  },
  "language_info": {
   "codemirror_mode": {
    "name": "ipython",
    "version": 3
   },
   "file_extension": ".py",
   "mimetype": "text/x-python",
   "name": "python",
   "nbconvert_exporter": "python",
   "pygments_lexer": "ipython3",
   "version": "3.9.7"
  }
 },
 "nbformat": 4,
 "nbformat_minor": 5
}
